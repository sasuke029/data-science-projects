{
 "cells": [
  {
   "cell_type": "markdown",
   "id": "b1dbe997",
   "metadata": {},
   "source": [
    "# COMP2200/COMP6200 Assignment 1\n",
    "\n",
    "Due date: 11:55pm on Sunday April 6th 2025\n",
    "\n",
    "(Note that daylight savings ends earlier on that day. Remember to move your clock backward by an hour.)\n",
    "\n",
    "## Scenario\n",
    "\n",
    "You are working as a data scientist in a venture capital investment firm. You have been given some\n",
    "data about a potential company to invest in. You will create some models to predict what the \n",
    "potential company will be like in 12 months' time.\n",
    "\n",
    "\n",
    "## About this assignment\n",
    "\n",
    "This assessment focuses on fundamental statistical analysis, which\n",
    "will apply linear and logistic regression techniques on one or more\n",
    "data sets.\n",
    "\n",
    "The relevant ULO (Unit Learning Outcomes) are:\n",
    "\n",
    "- Identify the appropriate Data Science analysis for a problem and\n",
    "  apply that method to the problem.\n",
    "\n",
    "- Interpret Data Science analyses and summarise and identify the most\n",
    "  important aspects of a Data Science analysis.\n",
    "\n",
    "- Present the results of their Data Science analyses both verbally and\n",
    "  in written form.\n",
    "  \n",
    "Total: 15 marks\n",
    "  \n",
    "\n",
    "## Submission\n",
    "\n",
    "Use https://classroom.github.com/a/BdRkY5OH to create a new empty\n",
    "repository.\n",
    "\n",
    "Complete this notebook and add it to a new GitHub repository.\n",
    "\n",
    "Submit this repository via Github Classroom.\n",
    "\n",
    "Add the video that you create (in the last step) to your GitHub repository.\n",
    "\n",
    "You don't need to submit your CSV data file, but we won't penalise you\n",
    "if you do.\n",
    "\n",
    "## Use of Generative AI\n",
    "\n",
    "Feel free to use Gen-AI tools (ChatGPT, Anthropic Claude, DeepSeek,\n",
    "Llama, etc.) to assist you in writing the code. That's what everyone\n",
    "in industry does nowadays. There are some suggested prompts at the bottom\n",
    "of this notebook.\n",
    "\n",
    "Remember that you may be called on to explain what your code does and\n",
    "how it works, so if you have some code generated for you that you\n",
    "don't fully understand, spend some time with your Gen-AI tool asking\n",
    "for clarification until you are confident. Having a personal tutor\n",
    "guide you is one of the newest and fastest ways to learn to program in\n",
    "Python, so make the most of the opportunity. \n",
    "\n",
    "To help you remember what your code does, you can add comments to your\n",
    "code either by creating another markdown cell, or by using \"#\" at the\n",
    "beginning of a line in a code cell.\n",
    "\n",
    "Don't use Gen-AI tools for writing reflections and observations. You\n",
    "will find many cells in this notebook where you need to enter markdown text.\n",
    "They appear like this:\n",
    "\n",
    "**Your answer here. Replace the text in this markdown cell. Remember not to use Gen-AI here.**\n",
    "\n",
    "You don't want to use Gen-AI in these cells for two reasons:\n",
    "\n",
    "- Thinking and reflecting is how you will get most of the benefit of doing this assignment.\n",
    "\n",
    "- It will produce meaningless and bland statements (that will be obviously meaningless and bland)\n",
    "  and you will get bad marks.\n",
    "  \n",
    "\n",
    "## Marking Criteria\n",
    "\n",
    "For a code cell, any working correct answer will earn full marks. For\n",
    "non-working code, or code that performs a different task, if it seems\n",
    "like you were on the right track, the marker may issue partial marks.\n",
    "\n",
    "For code cells that create visualisations, a correct answer is one that\n",
    "creates a meaningful and useful visualisation of the data.\n",
    "\n",
    "For a text (markdown) cell, word counts are only a guide: this is how\n",
    "many words we think it will take to give a good answer. If you need to\n",
    "use more words, or can express your answer in less words, go ahead: a\n",
    "good answer will still receive full marks.\n",
    "\n",
    "Answers given as dot points in a markdown cell are acceptable;\n",
    "likewise full sentences in paragraphs are acceptable.\n",
    "\n",
    "## Resources\n",
    "\n",
    "The textbook for the unit (_Introduction to Data Science_ by Igual and\n",
    "Segui) has some linear regression examples as well. You might find\n",
    "Section 6.2.3 useful if you are looking for sample code that performs\n",
    "linear regression. Section 6.3.1 has an example of logistic\n",
    "regression.\n",
    "\n",
    "\n",
    "## Data\n",
    "\n",
    "You will find a large zip file called `2025-S1-COMP2200-6200-assignment1.zip` on iLearn.  When you expand it\n",
    "out, you will see many files, including one that begins with your\n",
    "student number. e.g `1235345 Brown-Miller Group.csv`\n",
    "\n",
    "Copy it into the same directory as you copied this Jupyter notebook.\n",
    "\n",
    "### Create a GitHub repo within Github Classroom (0.1 marks)\n",
    "\n",
    "- Yes, we'll give you 0.1 marks just for getting this far.\n",
    "\n",
    "### Import any libraries you need (0.1 marks)\n",
    "\n"
   ]
  },
  {
   "cell_type": "code",
   "execution_count": 40,
   "id": "2880dd9b",
   "metadata": {},
   "outputs": [],
   "source": [
    "import pandas as pd # data manipulation\n",
    "import matplotlib.pyplot as plt # plotting\n",
    "import numpy as np # for maths\n",
    "import seaborn as sns # plotting\n",
    "from sklearn.preprocessing import StandardScaler\n",
    "import sklearn.linear_model\n",
    "import sklearn.model_selection\n",
    "import sklearn.metrics\n",
    "from sklearn.model_selection import train_test_split\n",
    "from sklearn.linear_model import LinearRegression\n",
    "from sklearn.metrics import accuracy_score, classification_report\n"
   ]
  },
  {
   "cell_type": "markdown",
   "id": "c0554759",
   "metadata": {},
   "source": [
    "\n",
    "\n",
    "If you are doing something exotic --- e.g you are using libraries\n",
    "other than pandas and scikit-learn --- and you want the marker to\n",
    "install an extra package or use a particular version of Python, tell\n",
    "us about it here. Most students will leave this blank.\n",
    "\n"
   ]
  },
  {
   "cell_type": "markdown",
   "id": "891ec97d",
   "metadata": {},
   "source": [
    "*Your answer here. Replace the text in this markdown cell. Remember not to use Gen-AI here.* ________________________________"
   ]
  },
  {
   "cell_type": "markdown",
   "id": "78c29b4a",
   "metadata": {},
   "source": [
    "\n",
    "\n",
    "### Unzip and Load the Data (0.1 marks)\n",
    "\n",
    "- Load the data into a DataFrame using `pd.read_csv()` into a variable called `df`.\n",
    "\n"
   ]
  },
  {
   "cell_type": "code",
   "execution_count": 41,
   "id": "83a3d38c",
   "metadata": {},
   "outputs": [
    {
     "data": {
      "text/html": [
       "<div>\n",
       "<style scoped>\n",
       "    .dataframe tbody tr th:only-of-type {\n",
       "        vertical-align: middle;\n",
       "    }\n",
       "\n",
       "    .dataframe tbody tr th {\n",
       "        vertical-align: top;\n",
       "    }\n",
       "\n",
       "    .dataframe thead th {\n",
       "        text-align: right;\n",
       "    }\n",
       "</style>\n",
       "<table border=\"1\" class=\"dataframe\">\n",
       "  <thead>\n",
       "    <tr style=\"text-align: right;\">\n",
       "      <th></th>\n",
       "      <th>Months_Since_Launch</th>\n",
       "      <th>Payroll</th>\n",
       "      <th>Revenue</th>\n",
       "      <th>Base_10_Log_Revenue</th>\n",
       "      <th>Scandals</th>\n",
       "      <th>Media Coverage</th>\n",
       "    </tr>\n",
       "  </thead>\n",
       "  <tbody>\n",
       "    <tr>\n",
       "      <th>0</th>\n",
       "      <td>1</td>\n",
       "      <td>31636635.50</td>\n",
       "      <td>16572.77</td>\n",
       "      <td>4.2194</td>\n",
       "      <td>0</td>\n",
       "      <td>Positive</td>\n",
       "    </tr>\n",
       "    <tr>\n",
       "      <th>1</th>\n",
       "      <td>2</td>\n",
       "      <td>34591944.81</td>\n",
       "      <td>17296.23</td>\n",
       "      <td>4.2380</td>\n",
       "      <td>0</td>\n",
       "      <td>Positive</td>\n",
       "    </tr>\n",
       "    <tr>\n",
       "      <th>2</th>\n",
       "      <td>3</td>\n",
       "      <td>34455580.44</td>\n",
       "      <td>29290.77</td>\n",
       "      <td>4.4667</td>\n",
       "      <td>0</td>\n",
       "      <td>Positive</td>\n",
       "    </tr>\n",
       "    <tr>\n",
       "      <th>3</th>\n",
       "      <td>4</td>\n",
       "      <td>38922215.75</td>\n",
       "      <td>30854.81</td>\n",
       "      <td>4.4893</td>\n",
       "      <td>0</td>\n",
       "      <td>Positive</td>\n",
       "    </tr>\n",
       "    <tr>\n",
       "      <th>4</th>\n",
       "      <td>5</td>\n",
       "      <td>38306614.07</td>\n",
       "      <td>49344.23</td>\n",
       "      <td>4.6932</td>\n",
       "      <td>0</td>\n",
       "      <td>Positive</td>\n",
       "    </tr>\n",
       "  </tbody>\n",
       "</table>\n",
       "</div>"
      ],
      "text/plain": [
       "   Months_Since_Launch      Payroll   Revenue  Base_10_Log_Revenue  Scandals  \\\n",
       "0                    1  31636635.50  16572.77               4.2194         0   \n",
       "1                    2  34591944.81  17296.23               4.2380         0   \n",
       "2                    3  34455580.44  29290.77               4.4667         0   \n",
       "3                    4  38922215.75  30854.81               4.4893         0   \n",
       "4                    5  38306614.07  49344.23               4.6932         0   \n",
       "\n",
       "  Media Coverage  \n",
       "0       Positive  \n",
       "1       Positive  \n",
       "2       Positive  \n",
       "3       Positive  \n",
       "4       Positive  "
      ]
     },
     "execution_count": 41,
     "metadata": {},
     "output_type": "execute_result"
    }
   ],
   "source": [
    "df = pd.read_csv(\"49099000_Miller-Green_Group.csv\")\n",
    "df.head()"
   ]
  },
  {
   "cell_type": "markdown",
   "id": "a8f7f71b",
   "metadata": {},
   "source": [
    "\n",
    "\n",
    "### Inspect the Data (0.2 marks)\n",
    "\n",
    "- List the column names using `df.columns`.\n",
    "\n"
   ]
  },
  {
   "cell_type": "code",
   "execution_count": 42,
   "id": "c889e4b6",
   "metadata": {},
   "outputs": [
    {
     "data": {
      "text/plain": [
       "Index(['Months_Since_Launch', 'Payroll', 'Revenue', 'Base_10_Log_Revenue',\n",
       "       'Scandals', 'Media Coverage'],\n",
       "      dtype='object')"
      ]
     },
     "execution_count": 42,
     "metadata": {},
     "output_type": "execute_result"
    }
   ],
   "source": [
    "df.columns\n",
    "\n",
    "\n",
    "\n",
    "\n"
   ]
  },
  {
   "cell_type": "code",
   "execution_count": 43,
   "id": "b368f1dd-ebaf-4a3d-9638-7cda93d1a457",
   "metadata": {},
   "outputs": [
    {
     "data": {
      "text/html": [
       "<div>\n",
       "<style scoped>\n",
       "    .dataframe tbody tr th:only-of-type {\n",
       "        vertical-align: middle;\n",
       "    }\n",
       "\n",
       "    .dataframe tbody tr th {\n",
       "        vertical-align: top;\n",
       "    }\n",
       "\n",
       "    .dataframe thead th {\n",
       "        text-align: right;\n",
       "    }\n",
       "</style>\n",
       "<table border=\"1\" class=\"dataframe\">\n",
       "  <thead>\n",
       "    <tr style=\"text-align: right;\">\n",
       "      <th></th>\n",
       "      <th>Months_Since_Launch</th>\n",
       "      <th>Payroll</th>\n",
       "      <th>Revenue</th>\n",
       "      <th>Base_10_Log_Revenue</th>\n",
       "      <th>Scandals</th>\n",
       "      <th>Media Coverage</th>\n",
       "    </tr>\n",
       "  </thead>\n",
       "  <tbody>\n",
       "    <tr>\n",
       "      <th>13</th>\n",
       "      <td>14</td>\n",
       "      <td>54339770.00</td>\n",
       "      <td>579027.44</td>\n",
       "      <td>5.7627</td>\n",
       "      <td>0</td>\n",
       "      <td>Negative</td>\n",
       "    </tr>\n",
       "    <tr>\n",
       "      <th>15</th>\n",
       "      <td>16</td>\n",
       "      <td>63207646.63</td>\n",
       "      <td>949043.57</td>\n",
       "      <td>5.9773</td>\n",
       "      <td>0</td>\n",
       "      <td>Negative</td>\n",
       "    </tr>\n",
       "    <tr>\n",
       "      <th>8</th>\n",
       "      <td>9</td>\n",
       "      <td>96609248.23</td>\n",
       "      <td>178615.17</td>\n",
       "      <td>5.2519</td>\n",
       "      <td>0</td>\n",
       "      <td>Positive</td>\n",
       "    </tr>\n",
       "    <tr>\n",
       "      <th>11</th>\n",
       "      <td>12</td>\n",
       "      <td>52991280.86</td>\n",
       "      <td>282474.68</td>\n",
       "      <td>5.4510</td>\n",
       "      <td>0</td>\n",
       "      <td>Negative</td>\n",
       "    </tr>\n",
       "    <tr>\n",
       "      <th>23</th>\n",
       "      <td>24</td>\n",
       "      <td>71087019.29</td>\n",
       "      <td>4513846.63</td>\n",
       "      <td>6.6545</td>\n",
       "      <td>0</td>\n",
       "      <td>Negative</td>\n",
       "    </tr>\n",
       "    <tr>\n",
       "      <th>5</th>\n",
       "      <td>6</td>\n",
       "      <td>41467224.26</td>\n",
       "      <td>48259.88</td>\n",
       "      <td>4.6836</td>\n",
       "      <td>0</td>\n",
       "      <td>Positive</td>\n",
       "    </tr>\n",
       "    <tr>\n",
       "      <th>3</th>\n",
       "      <td>4</td>\n",
       "      <td>38922215.75</td>\n",
       "      <td>30854.81</td>\n",
       "      <td>4.4893</td>\n",
       "      <td>0</td>\n",
       "      <td>Positive</td>\n",
       "    </tr>\n",
       "    <tr>\n",
       "      <th>1</th>\n",
       "      <td>2</td>\n",
       "      <td>34591944.81</td>\n",
       "      <td>17296.23</td>\n",
       "      <td>4.2380</td>\n",
       "      <td>0</td>\n",
       "      <td>Positive</td>\n",
       "    </tr>\n",
       "    <tr>\n",
       "      <th>0</th>\n",
       "      <td>1</td>\n",
       "      <td>31636635.50</td>\n",
       "      <td>16572.77</td>\n",
       "      <td>4.2194</td>\n",
       "      <td>0</td>\n",
       "      <td>Positive</td>\n",
       "    </tr>\n",
       "    <tr>\n",
       "      <th>6</th>\n",
       "      <td>7</td>\n",
       "      <td>42589515.13</td>\n",
       "      <td>78466.43</td>\n",
       "      <td>4.8947</td>\n",
       "      <td>0</td>\n",
       "      <td>Positive</td>\n",
       "    </tr>\n",
       "  </tbody>\n",
       "</table>\n",
       "</div>"
      ],
      "text/plain": [
       "    Months_Since_Launch      Payroll     Revenue  Base_10_Log_Revenue  \\\n",
       "13                   14  54339770.00   579027.44               5.7627   \n",
       "15                   16  63207646.63   949043.57               5.9773   \n",
       "8                     9  96609248.23   178615.17               5.2519   \n",
       "11                   12  52991280.86   282474.68               5.4510   \n",
       "23                   24  71087019.29  4513846.63               6.6545   \n",
       "5                     6  41467224.26    48259.88               4.6836   \n",
       "3                     4  38922215.75    30854.81               4.4893   \n",
       "1                     2  34591944.81    17296.23               4.2380   \n",
       "0                     1  31636635.50    16572.77               4.2194   \n",
       "6                     7  42589515.13    78466.43               4.8947   \n",
       "\n",
       "    Scandals Media Coverage  \n",
       "13         0       Negative  \n",
       "15         0       Negative  \n",
       "8          0       Positive  \n",
       "11         0       Negative  \n",
       "23         0       Negative  \n",
       "5          0       Positive  \n",
       "3          0       Positive  \n",
       "1          0       Positive  \n",
       "0          0       Positive  \n",
       "6          0       Positive  "
      ]
     },
     "execution_count": 43,
     "metadata": {},
     "output_type": "execute_result"
    }
   ],
   "source": [
    "df.sample(10)"
   ]
  },
  {
   "cell_type": "code",
   "execution_count": 44,
   "id": "9c504fae-3a57-448c-ad54-44faaf857666",
   "metadata": {},
   "outputs": [
    {
     "data": {
      "text/plain": [
       "(24, 6)"
      ]
     },
     "execution_count": 44,
     "metadata": {},
     "output_type": "execute_result"
    }
   ],
   "source": [
    "df.shape"
   ]
  },
  {
   "cell_type": "markdown",
   "id": "3e866470",
   "metadata": {},
   "source": [
    "\n",
    "\n",
    "- Explore the data in those columns. Briefly describe each column in one sentence.\n",
    "\n"
   ]
  },
  {
   "cell_type": "code",
   "execution_count": 45,
   "id": "03fd9c62",
   "metadata": {},
   "outputs": [
    {
     "data": {
      "text/plain": [
       "Months_Since_Launch      int64\n",
       "Payroll                float64\n",
       "Revenue                float64\n",
       "Base_10_Log_Revenue    float64\n",
       "Scandals                 int64\n",
       "Media Coverage          object\n",
       "dtype: object"
      ]
     },
     "execution_count": 45,
     "metadata": {},
     "output_type": "execute_result"
    }
   ],
   "source": [
    "df.dtypes\n"
   ]
  },
  {
   "cell_type": "code",
   "execution_count": 46,
   "id": "c433f1ff-0876-4362-9a8c-7e997aee22be",
   "metadata": {},
   "outputs": [
    {
     "name": "stdout",
     "output_type": "stream",
     "text": [
      "<class 'pandas.core.frame.DataFrame'>\n",
      "RangeIndex: 24 entries, 0 to 23\n",
      "Data columns (total 6 columns):\n",
      " #   Column               Non-Null Count  Dtype  \n",
      "---  ------               --------------  -----  \n",
      " 0   Months_Since_Launch  24 non-null     int64  \n",
      " 1   Payroll              24 non-null     float64\n",
      " 2   Revenue              24 non-null     float64\n",
      " 3   Base_10_Log_Revenue  24 non-null     float64\n",
      " 4   Scandals             24 non-null     int64  \n",
      " 5   Media Coverage       24 non-null     object \n",
      "dtypes: float64(3), int64(2), object(1)\n",
      "memory usage: 1.3+ KB\n"
     ]
    }
   ],
   "source": [
    "df.info()"
   ]
  },
  {
   "cell_type": "code",
   "execution_count": 47,
   "id": "f5fa80ad-6f56-4edd-bc64-604150d43ae5",
   "metadata": {},
   "outputs": [
    {
     "data": {
      "text/html": [
       "<div>\n",
       "<style scoped>\n",
       "    .dataframe tbody tr th:only-of-type {\n",
       "        vertical-align: middle;\n",
       "    }\n",
       "\n",
       "    .dataframe tbody tr th {\n",
       "        vertical-align: top;\n",
       "    }\n",
       "\n",
       "    .dataframe thead th {\n",
       "        text-align: right;\n",
       "    }\n",
       "</style>\n",
       "<table border=\"1\" class=\"dataframe\">\n",
       "  <thead>\n",
       "    <tr style=\"text-align: right;\">\n",
       "      <th></th>\n",
       "      <th>Months_Since_Launch</th>\n",
       "      <th>Payroll</th>\n",
       "      <th>Revenue</th>\n",
       "      <th>Base_10_Log_Revenue</th>\n",
       "      <th>Scandals</th>\n",
       "    </tr>\n",
       "  </thead>\n",
       "  <tbody>\n",
       "    <tr>\n",
       "      <th>count</th>\n",
       "      <td>24.000000</td>\n",
       "      <td>2.400000e+01</td>\n",
       "      <td>2.400000e+01</td>\n",
       "      <td>24.000000</td>\n",
       "      <td>24.0</td>\n",
       "    </tr>\n",
       "    <tr>\n",
       "      <th>mean</th>\n",
       "      <td>12.500000</td>\n",
       "      <td>5.405716e+07</td>\n",
       "      <td>9.171099e+05</td>\n",
       "      <td>5.435867</td>\n",
       "      <td>0.0</td>\n",
       "    </tr>\n",
       "    <tr>\n",
       "      <th>std</th>\n",
       "      <td>7.071068</td>\n",
       "      <td>1.536555e+07</td>\n",
       "      <td>1.388464e+06</td>\n",
       "      <td>0.763995</td>\n",
       "      <td>0.0</td>\n",
       "    </tr>\n",
       "    <tr>\n",
       "      <th>min</th>\n",
       "      <td>1.000000</td>\n",
       "      <td>3.163664e+07</td>\n",
       "      <td>1.657277e+04</td>\n",
       "      <td>4.219400</td>\n",
       "      <td>0.0</td>\n",
       "    </tr>\n",
       "    <tr>\n",
       "      <th>25%</th>\n",
       "      <td>6.750000</td>\n",
       "      <td>4.198616e+07</td>\n",
       "      <td>5.940106e+04</td>\n",
       "      <td>4.771500</td>\n",
       "      <td>0.0</td>\n",
       "    </tr>\n",
       "    <tr>\n",
       "      <th>50%</th>\n",
       "      <td>12.500000</td>\n",
       "      <td>5.366553e+07</td>\n",
       "      <td>2.803488e+05</td>\n",
       "      <td>5.447700</td>\n",
       "      <td>0.0</td>\n",
       "    </tr>\n",
       "    <tr>\n",
       "      <th>75%</th>\n",
       "      <td>18.250000</td>\n",
       "      <td>6.334344e+07</td>\n",
       "      <td>9.640893e+05</td>\n",
       "      <td>5.983975</td>\n",
       "      <td>0.0</td>\n",
       "    </tr>\n",
       "    <tr>\n",
       "      <th>max</th>\n",
       "      <td>24.000000</td>\n",
       "      <td>9.660925e+07</td>\n",
       "      <td>5.049703e+06</td>\n",
       "      <td>6.703300</td>\n",
       "      <td>0.0</td>\n",
       "    </tr>\n",
       "  </tbody>\n",
       "</table>\n",
       "</div>"
      ],
      "text/plain": [
       "       Months_Since_Launch       Payroll       Revenue  Base_10_Log_Revenue  \\\n",
       "count            24.000000  2.400000e+01  2.400000e+01            24.000000   \n",
       "mean             12.500000  5.405716e+07  9.171099e+05             5.435867   \n",
       "std               7.071068  1.536555e+07  1.388464e+06             0.763995   \n",
       "min               1.000000  3.163664e+07  1.657277e+04             4.219400   \n",
       "25%               6.750000  4.198616e+07  5.940106e+04             4.771500   \n",
       "50%              12.500000  5.366553e+07  2.803488e+05             5.447700   \n",
       "75%              18.250000  6.334344e+07  9.640893e+05             5.983975   \n",
       "max              24.000000  9.660925e+07  5.049703e+06             6.703300   \n",
       "\n",
       "       Scandals  \n",
       "count      24.0  \n",
       "mean        0.0  \n",
       "std         0.0  \n",
       "min         0.0  \n",
       "25%         0.0  \n",
       "50%         0.0  \n",
       "75%         0.0  \n",
       "max         0.0  "
      ]
     },
     "execution_count": 47,
     "metadata": {},
     "output_type": "execute_result"
    }
   ],
   "source": [
    "df.describe()"
   ]
  },
  {
   "cell_type": "code",
   "execution_count": 48,
   "id": "be714c0d-5e21-4fa6-a329-68608bab4874",
   "metadata": {},
   "outputs": [
    {
     "data": {
      "text/plain": [
       "np.float64(54057161.62583333)"
      ]
     },
     "execution_count": 48,
     "metadata": {},
     "output_type": "execute_result"
    }
   ],
   "source": [
    "df['Payroll'].mean()"
   ]
  },
  {
   "cell_type": "code",
   "execution_count": 49,
   "id": "5e43367f-1950-48c8-af3b-c18413646aeb",
   "metadata": {},
   "outputs": [
    {
     "data": {
      "text/plain": [
       "Months_Since_Launch    0\n",
       "Payroll                0\n",
       "Revenue                0\n",
       "Base_10_Log_Revenue    0\n",
       "Scandals               0\n",
       "Media Coverage         0\n",
       "dtype: int64"
      ]
     },
     "execution_count": 49,
     "metadata": {},
     "output_type": "execute_result"
    }
   ],
   "source": [
    "df.isnull().sum()"
   ]
  },
  {
   "cell_type": "code",
   "execution_count": 50,
   "id": "bd0f033a-e9a8-4e5f-ba3e-5197e6a42174",
   "metadata": {},
   "outputs": [
    {
     "data": {
      "text/plain": [
       "array([31636635.5 , 34591944.81, 34455580.44, 38922215.75, 38306614.07,\n",
       "       41467224.26, 42589515.13, 42159143.84, 96609248.23, 44995602.94,\n",
       "       48981381.73, 52991280.86, 51809694.71, 54339770.  , 55038093.1 ,\n",
       "       63207646.63, 59585971.22, 61457470.29, 60652924.09, 63750836.27,\n",
       "       68016284.25, 68484469.3 , 72235312.31, 71087019.29])"
      ]
     },
     "execution_count": 50,
     "metadata": {},
     "output_type": "execute_result"
    }
   ],
   "source": [
    "df[\"Payroll\"].unique()\n"
   ]
  },
  {
   "cell_type": "code",
   "execution_count": 51,
   "id": "192e6bd8-d635-45b2-86b2-07a70e9ba81a",
   "metadata": {},
   "outputs": [
    {
     "data": {
      "text/plain": [
       "array([0])"
      ]
     },
     "execution_count": 51,
     "metadata": {},
     "output_type": "execute_result"
    }
   ],
   "source": [
    "df[\"Scandals\"].unique()"
   ]
  },
  {
   "cell_type": "code",
   "execution_count": 52,
   "id": "b83e95e6-e9c7-4b37-8666-447e84c189ab",
   "metadata": {},
   "outputs": [
    {
     "name": "stdout",
     "output_type": "stream",
     "text": [
      "[[-1.4905252 ]\n",
      " [-1.2940551 ]\n",
      " [-1.30312066]\n",
      " [-1.00617703]\n",
      " [-1.04710246]\n",
      " [-0.83698388]\n",
      " [-0.76237355]\n",
      " [-0.7909848 ]\n",
      " [ 2.82887909]\n",
      " [-0.60241591]\n",
      " [-0.3374398 ]\n",
      " [-0.07086016]\n",
      " [-0.14941247]\n",
      " [ 0.01878791]\n",
      " [ 0.0652127 ]\n",
      " [ 0.60832776]\n",
      " [ 0.36755739]\n",
      " [ 0.49197537]\n",
      " [ 0.43848883]\n",
      " [ 0.64443922]\n",
      " [ 0.92800784]\n",
      " [ 0.95913297]\n",
      " [ 1.20849045]\n",
      " [ 1.13215149]]\n"
     ]
    },
    {
     "data": {
      "text/html": [
       "<div>\n",
       "<style scoped>\n",
       "    .dataframe tbody tr th:only-of-type {\n",
       "        vertical-align: middle;\n",
       "    }\n",
       "\n",
       "    .dataframe tbody tr th {\n",
       "        vertical-align: top;\n",
       "    }\n",
       "\n",
       "    .dataframe thead th {\n",
       "        text-align: right;\n",
       "    }\n",
       "</style>\n",
       "<table border=\"1\" class=\"dataframe\">\n",
       "  <thead>\n",
       "    <tr style=\"text-align: right;\">\n",
       "      <th></th>\n",
       "      <th>Months_Since_Launch</th>\n",
       "      <th>Payroll</th>\n",
       "      <th>Revenue</th>\n",
       "      <th>Base_10_Log_Revenue</th>\n",
       "      <th>Scandals</th>\n",
       "      <th>Media Coverage</th>\n",
       "    </tr>\n",
       "  </thead>\n",
       "  <tbody>\n",
       "    <tr>\n",
       "      <th>0</th>\n",
       "      <td>1</td>\n",
       "      <td>31636635.50</td>\n",
       "      <td>16572.77</td>\n",
       "      <td>4.2194</td>\n",
       "      <td>0</td>\n",
       "      <td>Positive</td>\n",
       "    </tr>\n",
       "    <tr>\n",
       "      <th>1</th>\n",
       "      <td>2</td>\n",
       "      <td>34591944.81</td>\n",
       "      <td>17296.23</td>\n",
       "      <td>4.2380</td>\n",
       "      <td>0</td>\n",
       "      <td>Positive</td>\n",
       "    </tr>\n",
       "    <tr>\n",
       "      <th>2</th>\n",
       "      <td>3</td>\n",
       "      <td>34455580.44</td>\n",
       "      <td>29290.77</td>\n",
       "      <td>4.4667</td>\n",
       "      <td>0</td>\n",
       "      <td>Positive</td>\n",
       "    </tr>\n",
       "    <tr>\n",
       "      <th>3</th>\n",
       "      <td>4</td>\n",
       "      <td>38922215.75</td>\n",
       "      <td>30854.81</td>\n",
       "      <td>4.4893</td>\n",
       "      <td>0</td>\n",
       "      <td>Positive</td>\n",
       "    </tr>\n",
       "    <tr>\n",
       "      <th>4</th>\n",
       "      <td>5</td>\n",
       "      <td>38306614.07</td>\n",
       "      <td>49344.23</td>\n",
       "      <td>4.6932</td>\n",
       "      <td>0</td>\n",
       "      <td>Positive</td>\n",
       "    </tr>\n",
       "  </tbody>\n",
       "</table>\n",
       "</div>"
      ],
      "text/plain": [
       "   Months_Since_Launch      Payroll   Revenue  Base_10_Log_Revenue  Scandals  \\\n",
       "0                    1  31636635.50  16572.77               4.2194         0   \n",
       "1                    2  34591944.81  17296.23               4.2380         0   \n",
       "2                    3  34455580.44  29290.77               4.4667         0   \n",
       "3                    4  38922215.75  30854.81               4.4893         0   \n",
       "4                    5  38306614.07  49344.23               4.6932         0   \n",
       "\n",
       "  Media Coverage  \n",
       "0       Positive  \n",
       "1       Positive  \n",
       "2       Positive  \n",
       "3       Positive  \n",
       "4       Positive  "
      ]
     },
     "execution_count": 52,
     "metadata": {},
     "output_type": "execute_result"
    }
   ],
   "source": [
    "\n",
    "scale = StandardScaler()\n",
    "X = df[['Payroll']]\n",
    "scaledX = scale.fit_transform(X)\n",
    "print(scaledX)\n",
    "\n",
    "\n",
    "df.head()"
   ]
  },
  {
   "cell_type": "markdown",
   "id": "33c82146",
   "metadata": {},
   "source": [
    "By applying above analysis we can see that shape of our data is 24*6 where we have 6 different columns (Months_Since_Launch, Payroll, Revenue, Base_10_Log_Revenue, and Scandals) are stored as int64 and float64(which is numerical data) and , media coverage is stored as object which is categorical data.We don't have any null value in our entire data set.\n",
    "Months_Since_Launch = Represents number of months since company started.Stored as int64.\n",
    "Payroll =Represents the amount spent for salries.Stored as float64.\n",
    "Revenue = Total income generated by company.Stored as float64.\n",
    "Base_10_Log_Revenue = A logarithmic transformation of revenue for scaling.\n",
    "Scandals  = Represents the number of scandals associated with the company.Which is 0 in all company.\n",
    "Media Coverage  =  media coverage is Positive or Negative.\n"
   ]
  },
  {
   "cell_type": "markdown",
   "id": "3c44ce16",
   "metadata": {},
   "source": [
    "*Your answer here. Replace the text in this markdown cell. Remember not to use Gen-AI here.* ________________________________"
   ]
  },
  {
   "cell_type": "markdown",
   "id": "3646e962",
   "metadata": {},
   "source": [
    "\n",
    "\n",
    "### Visualise Payroll Over Time (1 mark)\n",
    "\n",
    "- Create a line plot clearly showing payroll over months since launch.\n",
    "\n"
   ]
  },
  {
   "cell_type": "code",
   "execution_count": 53,
   "id": "ac5cf087",
   "metadata": {},
   "outputs": [
    {
     "data": {
      "image/png": "[encoded data removed]",
      "text/plain": [
       "<Figure size 1000x600 with 1 Axes>"
      ]
     },
     "metadata": {},
     "output_type": "display_data"
    }
   ],
   "source": [
    "plt.figure(figsize=(10,6))\n",
    "plt.plot(df['Months_Since_Launch'], df['Payroll'], marker='o', color='b', linestyle='-', linewidth=2)\n",
    "\n",
    "# Adding labels and title\n",
    "plt.title('Payroll Over Months Since Launch', fontsize=14)\n",
    "plt.xlabel('Months Since Launch', fontsize=12)\n",
    "plt.ylabel('Payroll', fontsize=12)\n",
    "\n",
    "# Display the plot\n",
    "plt.grid(True)\n",
    "plt.show()"
   ]
  },
  {
   "cell_type": "markdown",
   "id": "7bdb8e82",
   "metadata": {},
   "source": [
    "\n",
    "\n",
    "- Identify and briefly discuss any visible outliers.\n",
    "\n"
   ]
  },
  {
   "cell_type": "raw",
   "id": "00bf2e8e-c454-4b34-84a7-bbe785a35280",
   "metadata": {},
   "source": [
    "From above line plot we can see that company 9 months after launching has signifiant growth in payroll which can be defined as outliers.\n",
    "This outlier can be either data entry mistake or can be any specific occasion like christmas or some events where pay is spiked like one-time bonus.\n",
    "We have to investigate further in order to find accurate insight on outlier. "
   ]
  },
  {
   "cell_type": "markdown",
   "id": "0e78e65a",
   "metadata": {},
   "source": [
    "\n",
    "\n",
    "Suggested word count: ~50 words\n",
    "\n"
   ]
  },
  {
   "cell_type": "markdown",
   "id": "9e1a7fdd",
   "metadata": {},
   "source": [
    "\n",
    "\n",
    "## Linear Regression: Payroll (Total 3 marks)\n",
    "\n",
    "### Step-by-step breakdown:\n",
    "\n",
    "- (0.2 marks) Create training, validation, and test sets correctly:\n",
    "  - Training: all months except last two.\n",
    "  - Validation: second-last month.\n",
    "  - Test: last month.\n",
    "  \n"
   ]
  },
  {
   "cell_type": "code",
   "execution_count": 80,
   "id": "a78ad376-95f9-4317-8ad4-b4b96e5bccd6",
   "metadata": {},
   "outputs": [],
   "source": [
    "train_df = df.iloc[:-2]  # All months except last two (Training set)\n",
    "\n",
    "val_df = df.iloc[-2:-1]  # Second-last month (Validation set)\n",
    "test_df = df.iloc[-1:]   # Last month (Test set)\n"
   ]
  },
  {
   "cell_type": "code",
   "execution_count": 55,
   "id": "b3ea08a7-e7eb-4f21-8cf1-73e615fde231",
   "metadata": {},
   "outputs": [
    {
     "data": {
      "text/plain": [
       "((22, 6), (1, 6), (1, 6))"
      ]
     },
     "execution_count": 55,
     "metadata": {},
     "output_type": "execute_result"
    }
   ],
   "source": [
    "train_df.shape, val_df.shape, test_df.shape"
   ]
  },
  {
   "cell_type": "markdown",
   "id": "43a7c702",
   "metadata": {},
   "source": [
    "\n",
    "  \n",
    "- (0.5 marks) Train an Ordinary Least Squares (OLS) regressor.\n",
    "\n"
   ]
  },
  {
   "cell_type": "code",
   "execution_count": 56,
   "id": "b63a9316",
   "metadata": {},
   "outputs": [
    {
     "name": "stdout",
     "output_type": "stream",
     "text": [
      "Slope (Coefficient): [0.68772698]\n"
     ]
    }
   ],
   "source": [
    "from sklearn.preprocessing import StandardScaler\n",
    "\n",
    "# Scale both feature (Months_Since_Launch) and target (Payroll)\n",
    "feature_scaler = StandardScaler()\n",
    "target_scaler = StandardScaler()\n",
    "\n",
    "X_train_scaled = feature_scaler.fit_transform(train_df[['Months_Since_Launch']])\n",
    "X_val_scaled = feature_scaler.transform(val_df[['Months_Since_Launch']])\n",
    "\n",
    "y_train_scaled = target_scaler.fit_transform(train_df[['Payroll']])\n",
    "y_val_scaled = target_scaler.transform(val_df[['Payroll']])\n",
    "\n",
    "# Train OLS Model with Scaled Data\n",
    "ols = sklearn.linear_model.LinearRegression()\n",
    "ols.fit(X_train_scaled, y_train_scaled)\n",
    "ols_predictions_scaled = ols.predict(X_val_scaled)\n",
    "\n",
    "# Convert predictions back to original scale\n",
    "ols_predictions = target_scaler.inverse_transform(ols_predictions_scaled)\n",
    "\n",
    "# Print updated coefficients\n",
    "print(\"Slope (Coefficient):\", ols.coef_[0])\n"
   ]
  },
  {
   "cell_type": "markdown",
   "id": "0dbd63bb",
   "metadata": {},
   "source": [
    "\n",
    "\n",
    "- (0.5 marks) Train a robust regressor. Use any of the ones we talked\n",
    "  about in lectures or pracs, or one that you happen to know from\n",
    "  elsewhere.\n",
    "\n"
   ]
  },
  {
   "cell_type": "code",
   "execution_count": 57,
   "id": "dd1d7fa1",
   "metadata": {},
   "outputs": [
    {
     "name": "stdout",
     "output_type": "stream",
     "text": [
      "Slope (Coefficient): 0.7403096120669557\n"
     ]
    },
    {
     "name": "stderr",
     "output_type": "stream",
     "text": [
      "C:\\Users\\Dell\\AppData\\Local\\Programs\\Python\\Python313\\Lib\\site-packages\\sklearn\\utils\\validation.py:1408: DataConversionWarning: A column-vector y was passed when a 1d array was expected. Please change the shape of y to (n_samples, ), for example using ravel().\n",
      "  y = column_or_1d(y, warn=True)\n"
     ]
    }
   ],
   "source": [
    "from sklearn.linear_model import HuberRegressor\n",
    "\n",
    "# Train Huber Regressor with scaled data\n",
    "huber = HuberRegressor()\n",
    "huber.fit(X_train_scaled, y_train_scaled)\n",
    "\n",
    "# Predict on validation set\n",
    "huber_predictions_scaled = huber.predict(X_val_scaled)\n",
    "\n",
    "# Convert predictions back to original scale\n",
    "huber_predictions = target_scaler.inverse_transform(huber_predictions_scaled.reshape(-1, 1))\n",
    "\n",
    "# Print updated coefficients\n",
    "print(\"Slope (Coefficient):\", huber.coef_[0])"
   ]
  },
  {
   "cell_type": "markdown",
   "id": "63fc63e1",
   "metadata": {},
   "source": [
    "\n",
    "\n",
    "- (0.5 marks) Clearly identify and justify an appropriate evaluation metric.\n",
    "\n"
   ]
  },
  {
   "cell_type": "code",
   "execution_count": 58,
   "id": "361fdf54",
   "metadata": {},
   "outputs": [
    {
     "name": "stdout",
     "output_type": "stream",
     "text": [
      "Mean Absolute Error (MAE): 69789821.58847086\n"
     ]
    }
   ],
   "source": [
    "from sklearn.metrics import mean_absolute_error,mean_squared_error, r2_score\n",
    "\n",
    "# Compute MAE for the model\n",
    "mae = mean_absolute_error(y_val_scaled, huber_predictions)\n",
    "print(\"Mean Absolute Error (MAE):\", mae)"
   ]
  },
  {
   "cell_type": "code",
   "execution_count": 59,
   "id": "8ff38f15-204f-4320-818e-c5ce2be81eae",
   "metadata": {},
   "outputs": [
    {
     "name": "stdout",
     "output_type": "stream",
     "text": [
      "Mean squared Error (MSE): 4870619197350593.0\n"
     ]
    }
   ],
   "source": [
    "# Compute MSE for the model\n",
    "mse = mean_squared_error(y_val_scaled, huber_predictions)\n",
    "print(\"Mean squared Error (MSE):\", mse)"
   ]
  },
  {
   "cell_type": "code",
   "execution_count": 60,
   "id": "e7fbca5d-7597-468f-bb37-48dceccd44bd",
   "metadata": {},
   "outputs": [
    {
     "name": "stdout",
     "output_type": "stream",
     "text": [
      "R squared score (r2): nan\n"
     ]
    },
    {
     "name": "stderr",
     "output_type": "stream",
     "text": [
      "C:\\Users\\Dell\\AppData\\Local\\Programs\\Python\\Python313\\Lib\\site-packages\\sklearn\\metrics\\_regression.py:1266: UndefinedMetricWarning: R^2 score is not well-defined with less than two samples.\n",
      "  warnings.warn(msg, UndefinedMetricWarning)\n"
     ]
    }
   ],
   "source": [
    "r2 =  r2_score(y_val_scaled, huber_predictions)\n",
    "print(\"R squared score (r2):\", r2)"
   ]
  },
  {
   "cell_type": "markdown",
   "id": "a5c4d408",
   "metadata": {},
   "source": [
    "\n",
    "\n",
    "- (0.5 marks) Evaluate both models using the validation set and state which performed better.\n",
    "\n"
   ]
  },
  {
   "cell_type": "raw",
   "id": "db8c15c0-c324-4c13-b525-7b80ba12cf8e",
   "metadata": {},
   "source": [
    "(Mean Absolute Error) is the better evaluation metric as it is more robust to outliers and directly interprets errors in the same units as payroll contains an outliers. R² doesn't worked because it requires at least two validation samples, making it unsuitable for my single data point. (Mean Squared Error) is not better for my dataset because it penalizes large errors more heavily, which can distort the evaluation when there are outliers in payroll data. This can lead to inflated error values. MAE provides a more stable and interpretable metric in my case."
   ]
  },
  {
   "cell_type": "markdown",
   "id": "d6470664",
   "metadata": {},
   "source": [
    "\n",
    "\n"
   ]
  },
  {
   "cell_type": "markdown",
   "id": "edf2e2b8",
   "metadata": {},
   "source": [
    "*Your answer here. Replace the text in this markdown cell. Remember not to use Gen-AI here.* ________________________________"
   ]
  },
  {
   "cell_type": "markdown",
   "id": "005a443f",
   "metadata": {},
   "source": [
    "\n",
    "\n",
    "- (0.3 marks) Report accuracy of the best-performing model on the test set.\n",
    "\n"
   ]
  },
  {
   "cell_type": "code",
   "execution_count": 61,
   "id": "ac6c1cd5",
   "metadata": {},
   "outputs": [
    {
     "name": "stdout",
     "output_type": "stream",
     "text": [
      "Test Set MAE: 71087001.68531728\n"
     ]
    },
    {
     "name": "stderr",
     "output_type": "stream",
     "text": [
      "C:\\Users\\Dell\\AppData\\Local\\Programs\\Python\\Python313\\Lib\\site-packages\\sklearn\\utils\\validation.py:2732: UserWarning: X has feature names, but HuberRegressor was fitted without feature names\n",
      "  warnings.warn(\n",
      "C:\\Users\\Dell\\AppData\\Local\\Programs\\Python\\Python313\\Lib\\site-packages\\sklearn\\utils\\validation.py:2732: UserWarning: X has feature names, but HuberRegressor was fitted without feature names\n",
      "  warnings.warn(\n"
     ]
    }
   ],
   "source": [
    "best_performing_model = huber\n",
    "X_test = test_df[['Months_Since_Launch']]\n",
    "y_test = test_df['Payroll']\n",
    "\n",
    "# Make predictions on the test set\n",
    "test_predictions = best_performing_model.predict(X_test)\n",
    "X_test = test_df[['Months_Since_Launch']]\n",
    "y_test = test_df['Payroll']\n",
    "\n",
    "# Make predictions on the test set\n",
    "test_predictions = best_performing_model.predict(X_test)\n",
    "# Calculate MAE  on the test set\n",
    "mae_test = mean_absolute_error(y_test, test_predictions)\n",
    "\n",
    "\n",
    "# Print results\n",
    "print(\"Test Set MAE:\", mae_test)\n",
    "\n"
   ]
  },
  {
   "cell_type": "markdown",
   "id": "b428a52b",
   "metadata": {},
   "source": [
    "From my understanding, MAE on my test case is relatively higher than avg payroll. By calculating i got more than 100% so i can say that i have to do more feature engineering,data pre-processing  or i have to change my model selection. Since Huber regression is typically robust to outliers, its failure suggests deeper data issues. To improve accuracy, exploring alternative models, handling outliers, refining features, and scaling data may be necessary for better predictions.\n",
    "\n",
    "\n",
    "\n",
    "\n"
   ]
  },
  {
   "cell_type": "markdown",
   "id": "f526640e",
   "metadata": {},
   "source": [
    "*Your answer here. Replace the text in this markdown cell. Remember not to use Gen-AI here.* ________________________________"
   ]
  },
  {
   "cell_type": "markdown",
   "id": "4975f97f",
   "metadata": {},
   "source": [
    "\n",
    "\n",
    "\n",
    "### Payroll Prediction (1.5 marks)\n",
    "\n",
    "- (0.5 marks) Provide your best estimate for payroll in 12 months.\n",
    "\n"
   ]
  },
  {
   "cell_type": "code",
   "execution_count": 62,
   "id": "64737d9a",
   "metadata": {},
   "outputs": [
    {
     "name": "stderr",
     "output_type": "stream",
     "text": [
      "C:\\Users\\Dell\\AppData\\Local\\Programs\\Python\\Python313\\Lib\\site-packages\\sklearn\\utils\\validation.py:2732: UserWarning: X has feature names, but HuberRegressor was fitted without feature names\n",
      "  warnings.warn(\n"
     ]
    },
    {
     "data": {
      "text/plain": [
       "np.float64(8.720967389201356)"
      ]
     },
     "execution_count": 62,
     "metadata": {},
     "output_type": "execute_result"
    }
   ],
   "source": [
    "huber.predict(pd.DataFrame({'Months_Since_Launch': [12]}))[0]"
   ]
  },
  {
   "cell_type": "markdown",
   "id": "3c2d30c0",
   "metadata": {},
   "source": [
    "The outcome suggests that the payroll is projected to be 8.72 after 12 months.This indicates either a stable or growing payroll. \n",
    "\n"
   ]
  },
  {
   "cell_type": "markdown",
   "id": "38f7d635",
   "metadata": {},
   "source": [
    "My best estimation for payroll in 12 months is 51313761.46. Since the Huber Regressor is robust to outliers, it suggests that my  dataset may contain some noisy values, making this choice suitable for obtaining a stable prediction."
   ]
  },
  {
   "cell_type": "markdown",
   "id": "c9b99262",
   "metadata": {},
   "source": [
    "\n",
    "\n",
    "- (1 mark) Provide an estimate that takes account for uncertainty,\n",
    "  keeping in mind the evaluation metric you chose. If you want to\n",
    "  calculate additional metrics, you can do that here too.\n",
    "  \n"
   ]
  },
  {
   "cell_type": "code",
   "execution_count": 63,
   "id": "a9e0e010-c70c-4881-9688-7684399cdf45",
   "metadata": {},
   "outputs": [
    {
     "name": "stdout",
     "output_type": "stream",
     "text": [
      "Predicted payroll (Month 12): 8.72\n",
      "Estimated range: -69789812.87 to 69789830.31\n"
     ]
    },
    {
     "name": "stderr",
     "output_type": "stream",
     "text": [
      "C:\\Users\\Dell\\AppData\\Local\\Programs\\Python\\Python313\\Lib\\site-packages\\sklearn\\utils\\validation.py:2732: UserWarning: X has feature names, but HuberRegressor was fitted without feature names\n",
      "  warnings.warn(\n"
     ]
    }
   ],
   "source": [
    "# Your predicted payroll for month 12\n",
    "month_12_input = pd.DataFrame({'Months_Since_Launch': [12]})\n",
    "month_12_prediction = huber.predict(month_12_input)[0]\n",
    "\n",
    "# MAE from your earlier test set evaluation\n",
    "mae = mae  \n",
    "\n",
    "# Calculate a simple interval using ±MAE\n",
    "lower_bound = month_12_prediction - mae\n",
    "upper_bound = month_12_prediction + mae\n",
    "\n",
    "print(f\"Predicted payroll (Month 12): {month_12_prediction:.2f}\")\n",
    "print(f\"Estimated range: {lower_bound:.2f} to {upper_bound:.2f}\")\n"
   ]
  },
  {
   "cell_type": "markdown",
   "id": "d5ed073d",
   "metadata": {},
   "source": [
    "\n",
    "\n",
    "Suggested word count: ~100 words\n",
    "\n"
   ]
  },
  {
   "cell_type": "markdown",
   "id": "9fcae270",
   "metadata": {},
   "source": [
    "By above result we can see that, the payroll in a year will be 8.72. Although the range obtained (-69,789,812.87 to 69,789,830.31) is not what we expect it is unrealistic value , the Mean Absolute Error (MAE) is used to approximate a confidence interval.  A poorly performing model, outliers, or improper scaling could be the cause of the problem. The center prediction is still 8.72 in spite of this, though its accuracy cannot be assured."
   ]
  },
  {
   "cell_type": "markdown",
   "id": "34b573be",
   "metadata": {},
   "source": [
    "\n",
    "\n",
    "## Revenue Visualisation and Transformation (1 mark)\n",
    "\n",
    "- (0.5 marks) Visualise revenue over time.\n",
    "\n"
   ]
  },
  {
   "cell_type": "code",
   "execution_count": 64,
   "id": "f40bf7ca",
   "metadata": {},
   "outputs": [
    {
     "data": {
      "image/png": "[encoded data removed]",
      "text/plain": [
       "<Figure size 1000x600 with 1 Axes>"
      ]
     },
     "metadata": {},
     "output_type": "display_data"
    }
   ],
   "source": [
    "plt.figure(figsize=(10, 6))  # Adjust figure size for better readability\n",
    "plt.plot(df['Months_Since_Launch'], df['Revenue'], marker='o', linestyle='-', color='b')\n",
    "plt.xlabel('Months Since Launch', fontsize=12)\n",
    "plt.ylabel('Revenue', fontsize=12)\n",
    "plt.title('Revenue Over Time', fontsize=14)\n",
    "plt.grid(True)\n",
    "plt.show()"
   ]
  },
  {
   "cell_type": "markdown",
   "id": "343d7cf4",
   "metadata": {},
   "source": [
    "\n",
    "\n",
    "- (0.5 marks) Clearly explain why applying a log transformation to revenue may help linear modelling.\n",
    "\n"
   ]
  },
  {
   "cell_type": "raw",
   "id": "f33b563f-43cc-4ae2-90e4-81f86ac5b2c9",
   "metadata": {},
   "source": [
    "Applying a log transformation to revenue helps linear modeling by keeping variance stable  and making curves of exponential growth more linear. The finance data, e.g., revenues, exhibit non-linear growth and increases are multiplicative, rather than additive. The logarithm compresses large values and disperses smaller ones, and the relationship between revenue and time gets more linear. This improves model accuracy, reduces the impact of outliers, and upholds assumptions of linear regression  more effectively. Ultimately, it causes the model to make more reliable long-term predictions."
   ]
  },
  {
   "cell_type": "markdown",
   "id": "7943e29d",
   "metadata": {},
   "source": [
    "\n",
    "\n",
    "## Revenue Modelling (3 marks)\n",
    "\n",
    "- (0.5 marks) Train a linear regression model (any model you choose) on the original revenue data.\n",
    "\n"
   ]
  },
  {
   "cell_type": "code",
   "execution_count": 65,
   "id": "c5f50ac3",
   "metadata": {},
   "outputs": [
    {
     "data": {
      "image/png": "[encoded data removed]",
      "text/plain": [
       "<Figure size 1000x600 with 1 Axes>"
      ]
     },
     "metadata": {},
     "output_type": "display_data"
    },
    {
     "name": "stdout",
     "output_type": "stream",
     "text": [
      "Intercept: -1010713.0108695651\n",
      "Coefficient: 154225.8339695652\n"
     ]
    }
   ],
   "source": [
    "model = LinearRegression()\n",
    "model.fit(df[['Months_Since_Launch']], df['Revenue'])\n",
    "predictions = model.predict(df[['Months_Since_Launch']])\n",
    "plt.figure(figsize=(10, 6))\n",
    "plt.scatter(df['Months_Since_Launch'], df['Revenue'], label='Original Revenue')\n",
    "plt.plot(df['Months_Since_Launch'], predictions, color='red', label='Linear Regression')\n",
    "plt.xlabel('Months Since Launch')\n",
    "plt.ylabel('Revenue')\n",
    "plt.title('Linear Regression on Revenue Over Time')\n",
    "plt.legend()\n",
    "plt.grid(True)\n",
    "plt.show()\n",
    "\n",
    "print(f\"Intercept: {model.intercept_}\")\n",
    "print(f\"Coefficient: {model.coef_[0]}\")"
   ]
  },
  {
   "cell_type": "markdown",
   "id": "cf9389c0",
   "metadata": {},
   "source": [
    "\n",
    "\n",
    "- (0.5 marks) Train a linear regression model on the log-transformed revenue data.\n",
    "\n"
   ]
  },
  {
   "cell_type": "code",
   "execution_count": 66,
   "id": "921a8624",
   "metadata": {},
   "outputs": [
    {
     "data": {
      "image/png": "[encoded data removed]",
      "text/plain": [
       "<Figure size 1000x600 with 1 Axes>"
      ]
     },
     "metadata": {},
     "output_type": "display_data"
    },
    {
     "name": "stdout",
     "output_type": "stream",
     "text": [
      "Intercept (Log Scale): 9.436605616989892\n",
      "Coefficient (Log Scale): 0.2463955473084997\n"
     ]
    }
   ],
   "source": [
    "df['Log_Revenue'] = np.log(df['Revenue'])\n",
    "model = LinearRegression()\n",
    "model.fit(df[['Months_Since_Launch']], df['Log_Revenue'])\n",
    "log_predictions = model.predict(df[['Months_Since_Launch']])\n",
    "predictions = np.exp(log_predictions)\n",
    "plt.figure(figsize=(10, 6))\n",
    "plt.scatter(df['Months_Since_Launch'], df['Revenue'], label='Original Revenue')\n",
    "plt.plot(df['Months_Since_Launch'], predictions, color='red', label='Linear Regression (Log Transformed)')\n",
    "plt.xlabel('Months Since Launch')\n",
    "plt.ylabel('Revenue')\n",
    "plt.title('Linear Regression on Log-Transformed Revenue Over Time')\n",
    "plt.legend()\n",
    "plt.grid(True)\n",
    "plt.show()\n",
    "print(f\"Intercept (Log Scale): {model.intercept_}\")\n",
    "print(f\"Coefficient (Log Scale): {model.coef_[0]}\")\n"
   ]
  },
  {
   "cell_type": "markdown",
   "id": "c4064aa9",
   "metadata": {},
   "source": [
    "\n",
    "\n",
    "- (0.5 marks) Compare both models clearly and identify the better-performing model.\n",
    "\n"
   ]
  },
  {
   "cell_type": "code",
   "execution_count": 67,
   "id": "20d8e6f2",
   "metadata": {},
   "outputs": [
    {
     "name": "stdout",
     "output_type": "stream",
     "text": [
      "Original Revenue Model:\n",
      "  MAE: 917100.82\n",
      "  R² Score: -0.4552\n",
      "\n",
      "Log-Transformed Revenue Model:\n",
      "  MAE: 171655.91\n",
      "  R² Score: 0.9371\n"
     ]
    },
    {
     "name": "stderr",
     "output_type": "stream",
     "text": [
      "C:\\Users\\Dell\\AppData\\Local\\Programs\\Python\\Python313\\Lib\\site-packages\\sklearn\\utils\\validation.py:2732: UserWarning: X has feature names, but HuberRegressor was fitted without feature names\n",
      "  warnings.warn(\n"
     ]
    }
   ],
   "source": [
    "\n",
    "# True values\n",
    "y_true = df['Revenue'].values\n",
    "\n",
    "# Model 1: Original Revenue\n",
    "y_pred_rev = huber.predict(df[['Months_Since_Launch']])\n",
    "mae_rev = mean_absolute_error(y_true, y_pred_rev)\n",
    "r2_rev = r2_score(y_true, y_pred_rev)\n",
    "\n",
    "# Model 2: Log-Transformed Revenue\n",
    "log_preds = model.predict(df[['Months_Since_Launch']])  # Predictions in log scale\n",
    "y_pred_logrev = np.exp(log_preds)  # Correct back-transform\n",
    "\n",
    "mae_logrev = mean_absolute_error(y_true, y_pred_logrev)\n",
    "r2_logrev = r2_score(y_true, y_pred_logrev)\n",
    "\n",
    "# Show results\n",
    "print(\"Original Revenue Model:\")\n",
    "print(\"  MAE:\", round(mae_rev, 2))\n",
    "print(\"  R² Score:\", round(r2_rev, 4))\n",
    "\n",
    "print(\"\\nLog-Transformed Revenue Model:\")\n",
    "print(\"  MAE:\", round(mae_logrev, 2))\n",
    "print(\"  R² Score:\", round(r2_logrev, 4))\n"
   ]
  },
  {
   "cell_type": "markdown",
   "id": "c12b4a41",
   "metadata": {},
   "source": [
    "\n",
    "\n",
    "Suggested word count: ~25 words\n",
    "\n"
   ]
  },
  {
   "cell_type": "markdown",
   "id": "56c2627d",
   "metadata": {},
   "source": [
    "The log-transformed model performs better, with a lower MAE(171,655.91) and higher R²(0.9371), indicating improved accuracy compared to the original model(R²=-0.4552).\n"
   ]
  },
  {
   "cell_type": "markdown",
   "id": "c20c4960",
   "metadata": {},
   "source": [
    "\n",
    "\n",
    "- (0.5 marks) Predict revenue 12 months ahead, reversing any\n",
    "  transformations applied. Remember that the predictions of the\n",
    "  log-transformed revenue data need to be turned back into the\n",
    "  original units (dollars).\n",
    "  \n"
   ]
  },
  {
   "cell_type": "code",
   "execution_count": 68,
   "id": "7745f789",
   "metadata": {},
   "outputs": [
    {
     "name": "stdout",
     "output_type": "stream",
     "text": [
      "Predicted Revenue at 24 Months: $4639414.60\n"
     ]
    }
   ],
   "source": [
    "df['Log_Revenue'] = np.log(df['Revenue'])\n",
    "model = LinearRegression()\n",
    "model.fit(df[['Months_Since_Launch']], df['Log_Revenue'])\n",
    "future_months = 24\n",
    "future_data = pd.DataFrame({'Months_Since_Launch': [future_months]}) # Create a DataFrame\n",
    "log_future_revenue = model.predict(future_data)\n",
    "future_revenue = np.exp(log_future_revenue)\n",
    "print(f\"Predicted Revenue at 24 Months: ${future_revenue[0]:.2f}\")"
   ]
  },
  {
   "cell_type": "markdown",
   "id": "9508c2bc",
   "metadata": {},
   "source": [
    "\n",
    "\n",
    "Suggested word count: ~25 words\n",
    "\n"
   ]
  },
  {
   "cell_type": "markdown",
   "id": "e98fed0d",
   "metadata": {},
   "source": [
    "The predicted revenue at 24 months is $46394414.60, obtained using a log-transformed linear regression model, ensuring better trend estimation for exponential revenue growth."
   ]
  },
  {
   "cell_type": "markdown",
   "id": "da38a54a",
   "metadata": {},
   "source": [
    "\n",
    "\n",
    "- (1 mark) Predict revenue 20 years ahead. Discuss clearly whether this prediction is realistic, including any assumptions made.\n",
    "\n"
   ]
  },
  {
   "cell_type": "code",
   "execution_count": 69,
   "id": "fb2f02af",
   "metadata": {
    "scrolled": true
   },
   "outputs": [
    {
     "name": "stderr",
     "output_type": "stream",
     "text": [
      "C:\\Users\\Dell\\AppData\\Local\\Programs\\Python\\Python313\\Lib\\site-packages\\sklearn\\utils\\validation.py:2732: UserWarning: X has feature names, but LinearRegression was fitted without feature names\n",
      "  warnings.warn(\n"
     ]
    },
    {
     "data": {
      "image/png": "[encoded data removed]",
      "text/plain": [
       "<Figure size 1000x600 with 1 Axes>"
      ]
     },
     "metadata": {},
     "output_type": "display_data"
    },
    {
     "name": "stdout",
     "output_type": "stream",
     "text": [
      "Predicted Revenue at 240 Months: $174,266,772,405,351,438,155,977,293,037,568.00\n"
     ]
    }
   ],
   "source": [
    "\n",
    "from sklearn.preprocessing import PolynomialFeatures\n",
    "\n",
    "# Step 1: Prepare Data\n",
    "df['Log_Revenue'] = np.log1p(df['Revenue'])  # Log transformation to stabilize growth\n",
    "X = df[['Months_Since_Launch']].values  # Independent variable\n",
    "y = df['Log_Revenue'].values  # Dependent variable (log-transformed revenue)\n",
    "\n",
    "# Step 2: Train Linear Regression Model\n",
    "model = LinearRegression()\n",
    "model.fit(X, y)\n",
    "\n",
    "# Step 3: Predict Future Revenue\n",
    "future_months = np.arange(df['Months_Since_Launch'].max(), df['Months_Since_Launch'].max() + 240, 1).reshape(-1, 1)\n",
    "log_future_revenue = model.predict(future_months)  # Predict in log scale\n",
    "future_revenue = np.expm1(log_future_revenue)  # Convert back to normal scale\n",
    "\n",
    "# Step 4: Visualization\n",
    "plt.figure(figsize=(10, 6))\n",
    "plt.scatter(df['Months_Since_Launch'], df['Revenue'], label=\"Original Revenue\", alpha=0.6)\n",
    "plt.plot(df['Months_Since_Launch'], np.expm1(model.predict(df[['Months_Since_Launch']])), color='red', label=\"Regression (Log Transformed)\")\n",
    "plt.scatter(future_months, future_revenue, color='green', label=\"20-Year Prediction\", marker='x')\n",
    "plt.xlabel(\"Months Since Launch\")\n",
    "plt.ylabel(\"Revenue\")\n",
    "plt.title(\"Revenue Prediction Using Linear Regression (20 Years Ahead)\")\n",
    "plt.legend()\n",
    "plt.grid(True)\n",
    "plt.show()\n",
    "\n",
    "# Step 5: Display Prediction\n",
    "print(f\"Predicted Revenue at 240 Months: ${future_revenue[-1]:,.2f}\")\n"
   ]
  },
  {
   "cell_type": "markdown",
   "id": "ca3191a3",
   "metadata": {},
   "source": [
    "\n",
    "\n",
    "Suggested word count: ~150 words\n",
    "\n"
   ]
  },
  {
   "cell_type": "markdown",
   "id": "ffd5b961",
   "metadata": {},
   "source": [
    "The projection has revenue at 240 months (20 years) to be $174.27 octillion, an excessively high number. This is due to the utilization of a log transformation of revenue and linear regression to project growth, assuming exponential growth in revenues. While log transformation stabilizes variance and makes regression more precise for short-term projections, extending too far into the future amplifies errors. Exponential growth is demonstrated in the graph, with high, unprecedented revenue figures outside expectation.\n",
    "In the real world, due to various circumstances this value is unrealistics.I think we have to change model from linear regression into logistic for better outcome.\n",
    "\n",
    "\n",
    "\n",
    "\n",
    "\n",
    "\n",
    "\n",
    "\n"
   ]
  },
  {
   "cell_type": "markdown",
   "id": "87408c64",
   "metadata": {},
   "source": [
    "\n",
    "\n",
    "\n",
    "## Logistic Regression: Predicting Negative Media Coverage (3 marks)\n",
    "\n",
    "You will see a column called \"Media Coverage\" which takes values of\n",
    "\"Positive\" or \"Negative\". This is *categorical* data, meaning it\n",
    "consists of distinct, finite values.\n",
    "\n",
    "If a journalist wrote something nice about the company you will see a\n",
    "\"Positive\" in this column. If they wrote something bad about the\n",
    "company (or didn't write anything at all), you will see a \"Negative\"\n",
    "in this column.\n",
    "\n",
    "- (0.5 marks) Which features will you use to predict \"Media Coverage\"?\n",
    "\n",
    "Suggested word count: ~50 words\n",
    "\n"
   ]
  },
  {
   "cell_type": "markdown",
   "id": "775457ad",
   "metadata": {},
   "source": [
    "To predict \"Media Coverage,\" I would use features such as Revenue because higher revenue may attract  media covergae either positvely or negatively, Months Since Launch, since older companies might have more media coverage, Marketing Spend, which can influence media attention."
   ]
  },
  {
   "cell_type": "markdown",
   "id": "4ba57c71",
   "metadata": {},
   "source": [
    "\n",
    "\n",
    "- (0.1 marks) We don't need validation data (we aren't comparing any models), but we do need test\n",
    "  data so that we can see if the model is worthwhile. Randomly select some data to act as test\n",
    "  data.\n",
    "  \n"
   ]
  },
  {
   "cell_type": "code",
   "execution_count": 70,
   "id": "6864e0a7",
   "metadata": {},
   "outputs": [
    {
     "name": "stdout",
     "output_type": "stream",
     "text": [
      "Training Set Size: 19\n",
      "Test Set Size: 5\n"
     ]
    }
   ],
   "source": [
    "from sklearn.model_selection import train_test_split\n",
    "\n",
    "# Define features and target variable\n",
    "X = df[['Months_Since_Launch']]\n",
    "y = df['Payroll']\n",
    "\n",
    "# Randomly split data into 80% training and 20% test set\n",
    "X_train, X_test, y_train, y_test = train_test_split(X, y, test_size=0.2, random_state=42)\n",
    "\n",
    "# Print sizes to verify\n",
    "print(\"Training Set Size:\", X_train.shape[0])\n",
    "print(\"Test Set Size:\", X_test.shape[0])"
   ]
  },
  {
   "cell_type": "markdown",
   "id": "e3abbdf3",
   "metadata": {},
   "source": [
    "\n",
    "  \n",
    "- (0.1 marks) Train a logistic regression model on the training (non-test) data\n",
    "\n"
   ]
  },
  {
   "cell_type": "code",
   "execution_count": 76,
   "id": "70e23258",
   "metadata": {},
   "outputs": [
    {
     "name": "stdout",
     "output_type": "stream",
     "text": [
      " Logistic Regression Test Accuracy: 0.8\n"
     ]
    }
   ],
   "source": [
    "from sklearn.linear_model import LogisticRegression\n",
    "from sklearn.metrics import accuracy_score, classification_report\n",
    "\n",
    "threshold = df['Payroll'].median()\n",
    "y_train_class = (y_train > threshold).astype(int)\n",
    "y_test_class = (y_test > threshold).astype(int)\n",
    "\n",
    "log_reg = LogisticRegression()\n",
    "log_reg.fit(X_train, y_train_class)\n",
    "\n",
    "y_pred = log_reg.predict(X_test)\n",
    "accuracy = accuracy_score(y_test_class, y_pred)\n",
    "\n",
    "\n",
    "\n",
    "\n",
    "print(\" Logistic Regression Test Accuracy:\", accuracy)\n"
   ]
  },
  {
   "cell_type": "markdown",
   "id": "c3d10561",
   "metadata": {},
   "source": [
    "\n",
    "\n",
    "- (0.1 marks) Choose a metric and evaluate the success of your logistic regression\n",
    "\n"
   ]
  },
  {
   "cell_type": "code",
   "execution_count": 77,
   "id": "844c11ae",
   "metadata": {},
   "outputs": [
    {
     "name": "stdout",
     "output_type": "stream",
     "text": [
      "📋 Classification Report:\n",
      "               precision    recall  f1-score   support\n",
      "\n",
      "           0       0.67      1.00      0.80         2\n",
      "           1       1.00      0.67      0.80         3\n",
      "\n",
      "    accuracy                           0.80         5\n",
      "   macro avg       0.83      0.83      0.80         5\n",
      "weighted avg       0.87      0.80      0.80         5\n",
      "\n"
     ]
    }
   ],
   "source": [
    "report = classification_report(y_test_class, y_pred)\n",
    "print(\"📋 Classification Report:\\n\", report)"
   ]
  },
  {
   "cell_type": "markdown",
   "id": "16c2e1e1",
   "metadata": {},
   "source": [
    "\n",
    "\n",
    "- (0.1 marks) Examine the coefficients of the logistic regression model that you created.\n",
    "\n"
   ]
  },
  {
   "cell_type": "code",
   "execution_count": 78,
   "id": "1c94c42c",
   "metadata": {},
   "outputs": [
    {
     "name": "stdout",
     "output_type": "stream",
     "text": [
      "Coefficient for Months_Since_Launch: 1.0724540691488706\n",
      "Intercept: -14.27995592733551\n"
     ]
    }
   ],
   "source": [
    "# Get model coefficients\n",
    "coef = log_reg.coef_[0][0]  # Coefficient for 'Months_Since_Launch'\n",
    "intercept = log_reg.intercept_[0]  # Intercept term\n",
    "\n",
    "# Print the values\n",
    "print(f\"Coefficient for Months_Since_Launch: {coef}\")\n",
    "print(f\"Intercept: {intercept}\")"
   ]
  },
  {
   "cell_type": "markdown",
   "id": "8da42f45",
   "metadata": {},
   "source": [
    "\n",
    "Coefficients of logistic regression indicate the impact of every feature on the chances of negative media exposure. The coefficient is negative if one increases the feature and decreases the likelihood of bad coverage, and positive if greater likelihood of negative media exposure.\n",
    "In the model presented here, Months_Since_Launch is 1.0725, meaning that with increasing time, log-odds of receiving positive media coverage increase. A very negative intercept of -14.28 on the other hand implies that in initial time (Month 0), probabilities of positive media coverage are very low, leading to mostly negative or zero coverage.\n",
    "In order to identify the most important attributes for adverse coverage, we must consider variables with big positive coefficients as they increase the likelihood of adverse media. Additional attributes such as financial performance, customer attitudes, and social sentiment on social media can also account for variation in adverse media coverage if present\n",
    "\n"
   ]
  },
  {
   "cell_type": "markdown",
   "id": "37303483",
   "metadata": {},
   "source": [
    "\n",
    "\n",
    "- (1 mark) Use the logistic regression model to predict the probability of negative media\n",
    "  coverage 12 months from now. Assume that there are no scandals in that month.\n",
    "  \n"
   ]
  },
  {
   "cell_type": "code",
   "execution_count": 79,
   "id": "69d19bce",
   "metadata": {},
   "outputs": [
    {
     "name": "stdout",
     "output_type": "stream",
     "text": [
      "Probability of Negative Media Coverage in 12 Months: 0.9995\n"
     ]
    }
   ],
   "source": [
    "from sklearn.linear_model import LogisticRegression\n",
    "\n",
    "# Convert continuous target into binary classes (high vs. low payroll)\n",
    "threshold = df['Payroll'].median()  # You can change this threshold\n",
    "df['Payroll_Category'] = (df['Payroll'] > threshold).astype(int)\n",
    "\n",
    "# Define features and target variable\n",
    "X = df[['Months_Since_Launch', 'Revenue', 'Scandals', 'Base_10_Log_Revenue']]  # Your features\n",
    "y = df['Payroll_Category']  # The binary target variable\n",
    "\n",
    "# Split data (train/test) with stratification to preserve class distribution\n",
    "X_train, X_test, y_train, y_test = train_test_split(X, y, test_size=0.2, random_state=42, stratify=y)\n",
    "\n",
    "# Standardize features (scale them)\n",
    "scaler = StandardScaler()\n",
    "X_train_scaled = scaler.fit_transform(X_train)\n",
    "X_test_scaled = scaler.transform(X_test)\n",
    "\n",
    "# Train the Logistic Regression model\n",
    "model = LogisticRegression(random_state=42, max_iter=1000)\n",
    "model.fit(X_train_scaled, y_train)\n",
    "\n",
    "# Predict the probability of negative media coverage 12 months from now\n",
    "future_months = df['Months_Since_Launch'].max() + 12\n",
    "future_scandals = 0\n",
    "future_revenue = df['Revenue'].iloc[-1] * 1.1\n",
    "future_log_revenue = np.log10(future_revenue)\n",
    "\n",
    "# Prepare future data with same features and order\n",
    "future_data = pd.DataFrame({\n",
    "    'Months_Since_Launch': [future_months],\n",
    "    'Revenue': [future_revenue],\n",
    "    'Scandals': [future_scandals],\n",
    "    'Base_10_Log_Revenue': [future_log_revenue]\n",
    "})[X.columns]  # Ensure columns are in the same order as the training set\n",
    "\n",
    "# Scale future data\n",
    "future_data_scaled = scaler.transform(future_data)\n",
    "\n",
    "# Get the probability of negative media coverage\n",
    "probability_negative = model.predict_proba(future_data_scaled)[0][1]  # Class 1: negative media coverage\n",
    "\n",
    "# Output the predicted probability\n",
    "print(f\"Probability of Negative Media Coverage in 12 Months: {probability_negative:.4f}\")\n"
   ]
  },
  {
   "cell_type": "markdown",
   "id": "83e0462c",
   "metadata": {},
   "source": [
    "\n",
    "\n",
    "Suggested word count: ~25 words\n",
    "\n"
   ]
  },
  {
   "cell_type": "markdown",
   "id": "0aeed4b3",
   "metadata": {},
   "source": [
    "The model predicts a 99.95% probability of negative media coverage in 12 months, based on scaled features like revenue and time since launch using logistic regression."
   ]
  },
  {
   "cell_type": "markdown",
   "id": "bf7749b0",
   "metadata": {},
   "source": [
    "\n",
    "\n",
    "- (0.1 marks) Restart the kernel and rerun the notebook to verify that\n",
    "  it is still working start-to-finish. Enter the \"RESTARTED AND\n",
    "  CHECKED\" in the next cell when you have done this.\n",
    "  \n",
    "  Suggested word count: 3 words\n",
    "  \n"
   ]
  },
  {
   "cell_type": "markdown",
   "id": "801671f3",
   "metadata": {},
   "source": [
    "RESTARTED AND CHECKED\n"
   ]
  },
  {
   "cell_type": "markdown",
   "id": "78384750",
   "metadata": {},
   "source": [
    "\n",
    "\n",
    "## Written Summary of Findings (1.5 marks)\n",
    "\n",
    "- Provide a coherent one-paragraph summary clearly highlighting key\n",
    "  results and your confidence in these predictions. The investment\n",
    "  fund wants to know what you think this company will be like in a\n",
    "  year's time (revenue, payroll, media coverage).\n",
    "  \n",
    "Note that we aren't marking whether you have a right or wrong answer here, we are\n",
    "going to mark whether what you say shows an understanding of what your data \n",
    "analysis and modelling produced.\n",
    "\n",
    "If you want to add any visualisations here, you can.\n",
    "\n"
   ]
  },
  {
   "cell_type": "markdown",
   "id": "3884b117",
   "metadata": {},
   "source": [
    "\n",
    "\n",
    "Suggested word count: ~250 words\n",
    "\n"
   ]
  },
  {
   "cell_type": "markdown",
   "id": "24aa9fc3",
   "metadata": {},
   "source": [
    "In my data science project I trained  two primary regression models to predict the company's Payroll based on Months Since Launch: Ordinary Least Squares (OLS) and Huber Regressor. Both models were trained on standardized features to improve stability and interpretability.\n",
    "After training the models, the OLS regression returned a slope (coefficient) indicating a positive relationship between the time since launch and payroll, meaning that payroll tends to increase as the company grows over time. The Huber Regressor—a robust regression method less sensitive to outliers—was also trained and provided its own coefficient, showing similar upward trends.Although Huber Regressor was more efficient than OLS because we have outliers in our data. Model performance was measured by Mean Absolute Error (MAE), Mean Squared Error (MSE), and R-squared (R²). Huber regressor was the best performing model because of the lower MAE.\n",
    "logistic regression was used to predict the classification of firms into high and low payroll categories by converting the variable of payroll to a binary target based on the median. This model used variables such as revenue, scandals, and log-transformed revenue. It did a good job of classification and provided informative results through precision, recall, and F1-scores to measure the likelihood of high future payroll. Logistic regression also facilitated scenario predictions, like determining the likelihood of adverse media mentions 12 months in advance.\n",
    "Overall I used both model linear and logistic ,linear model helped me to find different insight in the data and logistic regression helped me to find future prediction for risk management and decison making."
   ]
  },
  {
   "cell_type": "markdown",
   "id": "334cf26f",
   "metadata": {},
   "source": [
    "\n",
    "\n",
    "\n",
    "## 2-Minute Video Presentation (1.5 marks)\n",
    "\n",
    "Some of your (non-technical) colleagues in this venture capital firm\n",
    "are in other timezones, and don't know how to program, so you need to\n",
    "create a video presentation for them describing your insights.\n",
    "\n",
    "It is common for data scientists to record screencasts (a presentation\n",
    "with a voiceover); not everyone records video of themselves\n",
    "talking. Some people use the QuickTime application in OSX; some record\n",
    "a Zoom meeting; people find technology and programs that they are\n",
    "comfortable using.\n",
    "\n",
    "Some people present presentations directly from their Jupyter notebook;\n",
    "others create custom PowerPoint presentations. \n",
    "\n",
    "So your choices in this section are quite open. \n",
    "\n",
    "- (0.5 marks) Submit a video, and ensure the video is in low resolution (SD, 480p)\n",
    "  so that it is small enough to upload. Keep the time to around 2\n",
    "  minutes.\n",
    "\n",
    "- (0.6 marks) State what you believe will happen to this startup over the next 12 months:\n",
    "  revenue, payroll, positive/negative media coverage. (0.6 marks)\n",
    "  \n",
    "- (0.4 marks) Briefly discuss any limitations or assumptions you made\n",
    "  in your analysis and how they might affect your predictions. Suggest\n",
    "  at least one practical step or recommendation to address these\n",
    "  concerns.\n",
    "\n",
    "\n",
    "\n",
    "\n",
    "\n",
    "\n",
    "## Late Assessment Submission Penalty \n",
    "\n",
    "Unless a Special Consideration request has been submitted and\n",
    "approved, a 5% penalty (of the total possible mark of the task) will\n",
    "be applied for each day a written report or presentation assessment is\n",
    "not submitted, up until the 7th day (including weekends). After the\n",
    "7th day, a grade of ‘0’ will be awarded even if the assessment is\n",
    "submitted. The submission time for all uploaded assessments is 11:55\n",
    "pm. A 1-hour grace period will be provided to students who experience\n",
    "a technical concern. For any late submission of time-sensitive tasks,\n",
    "such as scheduled tests/exams, performance assessments/presentations,\n",
    "and/or scheduled practical assessments/labs, please apply for\n",
    "[Special Consideration](https://students.mq.edu.au/study/assessment-exams/special-consideration).\n",
    "\n",
    "For example, as this assignment is worth 15% of the entire unit, a\n",
    "submission late by up to 24 hours will incur a penalty of 0.75 marks\n",
    "(5% of 15 marks). A submission that is late by between 24 and 48 hours\n",
    "will incur a penalty of 1.5 marks (10% of 15 marks), and so on.\n",
    "\n",
    "## Sample Gen-AI prompts\n",
    "\n",
    "Programming prompts:\n",
    "\n",
    "```\n",
    "Don't give me the answer directly, but help guide me to answering\n",
    "this question. I will be programming in Python using the pandas and scikit-learn\n",
    "libraries. If it appears that I don't know something that I would need to \n",
    "answer a question, suggest functions or classes that I should learn about. Always\n",
    "add little bits of information that will guide my journey.\n",
    "\n",
    "Here is my code so far, and the question I am trying to answer\n",
    "(....)\n",
    "```\n",
    "\n",
    "If you are concerned about your grammar or language, try a prompt like this:\n",
    "\n",
    "```\n",
    "Find any grammatical mistakes, typos or other language errors in this\n",
    "text. Don't make the corrections, just list for me what was wrong and\n",
    "explain the problem.\n",
    "```\n",
    "\n"
   ]
  },
  {
   "cell_type": "code",
   "execution_count": null,
   "id": "c16ca3f7-be62-4698-a275-76918fd1c759",
   "metadata": {},
   "outputs": [],
   "source": []
  }
 ],
 "metadata": {
  "kernelspec": {
   "display_name": "Python 3 (ipykernel)",
   "language": "python",
   "name": "python3"
  },
  "language_info": {
   "codemirror_mode": {
    "name": "ipython",
    "version": 3
   },
   "file_extension": ".py",
   "mimetype": "text/x-python",
   "name": "python",
   "nbconvert_exporter": "python",
   "pygments_lexer": "ipython3",
   "version": "3.13.2"
  }
 },
 "nbformat": 4,
 "nbformat_minor": 5
}
